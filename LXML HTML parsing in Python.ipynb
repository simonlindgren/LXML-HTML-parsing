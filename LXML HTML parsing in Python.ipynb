{
 "cells": [
  {
   "cell_type": "markdown",
   "metadata": {
    "collapsed": true
   },
   "source": [
    "## LXML HTML parsing in Python\n",
    "\n",
    "This notebook was posted by Simon Lindgren // [@simonlindgren](http://www.twitter.com/simonlindgren) // [simonlindgren.com](http://simonlindgren.com)\n",
    "\n",
    "It is about how to use [`lxml`](http://lxml.de/) in Python to grab the content we want from a set of locally stored html files."
   ]
  },
  {
   "cell_type": "code",
   "execution_count": null,
   "metadata": {
    "collapsed": true
   },
   "outputs": [],
   "source": [
    "# Import required librares\n",
    "import glob, re\n",
    "import lxml.html"
   ]
  },
  {
   "cell_type": "markdown",
   "metadata": {},
   "source": [
    "### Read the html into an ElementTree (a hierarchy of all elements)"
   ]
  },
  {
   "cell_type": "code",
   "execution_count": null,
   "metadata": {
    "collapsed": false,
    "scrolled": true
   },
   "outputs": [],
   "source": [
    "# Read just one of the files (if we have several) to test and set xpaths\n",
    "with open(\"cy_sml/cysml1.html\", \"r\") as f1:\n",
    "    tree = lxml.html.parse(f1)\n",
    "print(tree) # We have an ElementTree object"
   ]
  },
  {
   "cell_type": "markdown",
   "metadata": {},
   "source": [
    "### Define which specific elements to get from the tree\n",
    "Manually inspect elements in your html (using e.g. Developer Tools in the Chrome browser) to find out xpaths.\n",
    "\n",
    "When entering them below, **add '/text()' to the end of the xpath** to get its text content."
   ]
  },
  {
   "cell_type": "markdown",
   "metadata": {},
   "source": [
    "###### First item"
   ]
  },
  {
   "cell_type": "code",
   "execution_count": null,
   "metadata": {
    "collapsed": false
   },
   "outputs": [],
   "source": [
    "first_item_to_get = tree.xpath('//*[@id=\"the-loop\"]/div/h2/text()') # Get the element by its xpath\n",
    "print(first_item_to_get) # We have the element ...\n",
    "type(first_item_to_get)  # ... in list format\n",
    "str1 = ''.join(first_item_to_get) # Make it a string\n",
    "topic_title = str1.strip() # Name the text variable, and remove leading and trailing whitespace\n",
    "print(topic_title)"
   ]
  },
  {
   "cell_type": "markdown",
   "metadata": {},
   "source": [
    "###### Second item"
   ]
  },
  {
   "cell_type": "code",
   "execution_count": null,
   "metadata": {
    "collapsed": false
   },
   "outputs": [],
   "source": [
    "second_item_to_get = tree.xpath('//*[@id=\"the-loop\"]/div/div[1]/div[2]/div[2]/text()')\n",
    "str2 = ''.join(second_item_to_get)\n",
    "thread_start = str2.strip()\n",
    "print(thread_start)"
   ]
  },
  {
   "cell_type": "markdown",
   "metadata": {},
   "source": [
    "###### Third item"
   ]
  },
  {
   "cell_type": "code",
   "execution_count": null,
   "metadata": {
    "collapsed": false,
    "scrolled": true
   },
   "outputs": [],
   "source": [
    "third_item_to_get = tree.xpath('//*[@id=\"cyfo-topic-86-reply-709\"]/div[2]/div[2]/text()')\n",
    "str3 = ''.join(third_item_to_get)\n",
    "thread_post = str3\n",
    "thread_start = str2.strip() # Remove leading and trailing whitespace\n",
    "print(thread_post)"
   ]
  },
  {
   "cell_type": "markdown",
   "metadata": {},
   "source": [
    "##### Getting several similar items\n",
    "Looking at the html of the second and third items above, we realise in this case that several of the bits that we want to get have similar, but not the exact same, xpaths. Such as:\n",
    "\n",
    "- //\\*[@id=\"the-loop\"]/div/div[1]/**div[2]/div[2]/text()**\n",
    "- //\\*[@id=\"cyfo-topic-86-reply-709\"]/**div[2]/div[2]/text()**\n",
    "\n",
    "And also, in this case:\n",
    "\n",
    "- //\\*[@id=\"cyfo-topic-86-reply-711\"]/**div[2]/div[2]/text()**[2]\n",
    "- //\\*[@id=\"cyfo-topic-86-reply-711\"]/**div[2]/div[2]/text()**[3]\n",
    "\n",
    "We can then try to use the lowest common denominator to get all of these items in one go, such as in this case '**//div[2]/div[2]/text()**'\n",
    "\n",
    "Like this:"
   ]
  },
  {
   "cell_type": "code",
   "execution_count": null,
   "metadata": {
    "collapsed": false
   },
   "outputs": [],
   "source": [
    "more_items_to_get = tree.xpath('//div[2]/div[2]/text()')\n",
    "type(more_items_to_get)\n",
    "for t in more_items_to_get:\n",
    "    t = re.sub(\"\\n\",\" \", t)\n",
    "    t = t.strip()\n",
    "    \n",
    "    '''If it proves hard to avoid getting unwanted neighbouring (empty or other) fields, \n",
    "    we can inspect with the two lines below ...'''\n",
    "    #print(\"============== NEW ITEM START\")\n",
    "    #print(t)\n",
    "    \n",
    "    # ... and then keep just the ones that match criteria that we define:\n",
    "    if len(t) > 25:\n",
    "        #print(t)\n",
    "        thread_posts = t\n",
    "        print(thread_posts+\"\\n\")"
   ]
  },
  {
   "cell_type": "markdown",
   "metadata": {
    "collapsed": true
   },
   "source": [
    "Obviously, one could continue with this process, depending on what is in the source html to define more items to extract. In this example, we are happy with getting our `topic_title` and our `thread_posts`. "
   ]
  },
  {
   "cell_type": "markdown",
   "metadata": {},
   "source": [
    "### Extract the same data from many html files\n",
    "\n",
    "Now, let's use the strategy above on all html files in our data directory."
   ]
  },
  {
   "cell_type": "code",
   "execution_count": null,
   "metadata": {
    "collapsed": true
   },
   "outputs": [],
   "source": [
    "# Set up an output csv file with column headers\n",
    "with open('outfile.csv','a') as f: # it is important to open the file in 'a', for append, mode\n",
    "    f.write(\"title; post\\n\")"
   ]
  },
  {
   "cell_type": "code",
   "execution_count": null,
   "metadata": {
    "collapsed": true
   },
   "outputs": [],
   "source": [
    "# Read all files from data dir\n",
    "fs = glob.glob(\"cy_sml/*.html\")"
   ]
  },
  {
   "cell_type": "code",
   "execution_count": null,
   "metadata": {
    "collapsed": false
   },
   "outputs": [],
   "source": [
    "## Iterate over the file list\n",
    "for f in fs:\n",
    "    with open(f, 'r') as infile:\n",
    "        tree = lxml.html.parse(infile)\n",
    "        \n",
    "        # Get our first item\n",
    "        topic_title = tree.xpath('//*[@id=\"the-loop\"]/div/h2/text()')\n",
    "        topic_title = ''.join(topic_title)\n",
    "        #print(topic_title)\n",
    "        \n",
    "        # Get our secdon item\n",
    "        thread_posts = tree.xpath('//div[2]/div[2]/text()')\n",
    "        for t in thread_posts:\n",
    "            t = re.sub(\"\\n\",\" \", t)\n",
    "            t = t.strip()\n",
    "            if len(t) > 25:\n",
    "                thread_post = t\n",
    "                #print(thread_post+\"\\n\")\n",
    "                \n",
    "                # Concatenate into a row to write to the output csv file\n",
    "                csv_line = topic_title + \";\" + thread_post\n",
    "                #print(csv_line)\n",
    "                \n",
    "                # Append the line to the output csv\n",
    "                with open('outfile.csv','a') as outf ile: # it is important to open the file in 'a', for append, mode\n",
    "                    outfile.write(csv_line + \"\\n\")                \n"
   ]
  }
 ],
 "metadata": {
  "kernelspec": {
   "display_name": "Python 3",
   "language": "python",
   "name": "python3"
  },
  "language_info": {
   "codemirror_mode": {
    "name": "ipython",
    "version": 3
   },
   "file_extension": ".py",
   "mimetype": "text/x-python",
   "name": "python",
   "nbconvert_exporter": "python",
   "pygments_lexer": "ipython3",
   "version": "3.6.0"
  }
 },
 "nbformat": 4,
 "nbformat_minor": 2
}
